{
 "cells": [
  {
   "cell_type": "code",
   "execution_count": null,
   "metadata": {},
   "outputs": [],
   "source": [
    "import pandas as pd\n",
    "import requests\n",
    "import plotly.express as px\n",
    "import plotly.graph_objects as go\n",
    "\n",
    "from joblib import Memory\n",
    "memory = Memory(\"cache\", verbose=0)"
   ]
  },
  {
   "cell_type": "code",
   "execution_count": null,
   "metadata": {},
   "outputs": [],
   "source": [
    "@memory.cache\n",
    "def geopos_from_zipcode(country_code, zip_code):\n",
    "  API_KEY = \"API_KEY\"\n",
    "  URL = f\"https://api.openweathermap.org/geo/1.0/zip?zip={zip_code},{country_code}&appid={API_KEY}\"\n",
    "  response =  requests.get(URL)\n",
    "  json = response.json()\n",
    "  if \"lat\" in json and \"lon\" in json:\n",
    "    return json[\"lat\"], json[\"lon\"]\n",
    "  else:\n",
    "    return None, None"
   ]
  },
  {
   "cell_type": "code",
   "execution_count": null,
   "metadata": {},
   "outputs": [],
   "source": [
    "ccodes = pd.read_csv(\"countries.csv\", sep=\" \\t\")"
   ]
  },
  {
   "cell_type": "code",
   "execution_count": null,
   "metadata": {},
   "outputs": [],
   "source": [
    "from dash import Dash, dcc, html, Input, Output\n",
    "import plotly.express as px\n",
    "\n",
    "app = Dash(__name__)\n",
    "\n",
    "app.layout = html.Div([\n",
    "  html.Label(\"Country Code\"),\n",
    "  dcc.Dropdown(id=\"country-dropdown\", \n",
    "               options=ccodes[\"A2\"], \n",
    "               value=\"DE\",\n",
    "               #options=[{\"label\": row[\"Country\"], \"value\": row[\"A2\"]} for _, row in ccodes.iterrows()]\n",
    "               ),\n",
    "  html.Label(\"Zip Code\"),\n",
    "  dcc.Input(id=\"zip-input\", type=\"number\", placeholder=\"Enter a Zip Code\", debounce=0.5),\n",
    "\n",
    "  dcc.Graph(id=\"weather-graph\")\n",
    "])\n",
    "\n",
    "@memory.cache\n",
    "def fetch_temperatures(country_code, zip_code, start, end):\n",
    "  lat, lon = geopos_from_zipcode(country_code, zip_code)\n",
    "  if lat is None or lon is None:\n",
    "    return pd.DataFrame(columns=[\"temp\"])\n",
    "  \n",
    "  location = Point(lat, lon, 500)\n",
    "  data = Hourly(location, start, end)\n",
    "  data = data.fetch()\n",
    "  return data\n",
    "\n",
    "@app.callback(\n",
    "  Output(\"weather-graph\", \"figure\"),\n",
    "  Input(\"country-dropdown\", \"value\"),\n",
    "  Input(\"zip-input\", \"value\")\n",
    ")\n",
    "def update_graph(country_code, zip_code):\n",
    "  if country_code is None or zip_code is None:\n",
    "    return {}\n",
    "  \n",
    "  # Set time period\n",
    "  start = datetime(2021, 1, 1)\n",
    "  end = datetime(2022, 12, 31)\n",
    "  \n",
    "  data = fetch_temperatures(country_code, zip_code, start, end)\n",
    "  return px.line(data, y='temp')\n"
   ]
  },
  {
   "cell_type": "code",
   "execution_count": null,
   "metadata": {},
   "outputs": [],
   "source": [
    "app.run_server()"
   ]
  }
 ],
 "metadata": {
  "kernelspec": {
   "display_name": "venv",
   "language": "python",
   "name": "python3"
  },
  "language_info": {
   "codemirror_mode": {
    "name": "ipython",
    "version": 3
   },
   "file_extension": ".py",
   "mimetype": "text/x-python",
   "name": "python",
   "nbconvert_exporter": "python",
   "pygments_lexer": "ipython3",
   "version": "3.11.4"
  },
  "orig_nbformat": 4
 },
 "nbformat": 4,
 "nbformat_minor": 2
}
