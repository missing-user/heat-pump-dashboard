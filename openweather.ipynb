{
 "cells": [
  {
   "cell_type": "code",
   "execution_count": 8,
   "metadata": {},
   "outputs": [],
   "source": [
    "import pandas as pd\n",
    "import requests\n",
    "import plotly.express as px\n",
    "import plotly.graph_objects as go\n",
    "\n",
    "from joblib import Memory\n",
    "memory = Memory(\"cache\")"
   ]
  },
  {
   "cell_type": "code",
   "execution_count": 9,
   "metadata": {},
   "outputs": [],
   "source": [
    "@memory.cache\n",
    "def geopos_from_zipcode(country_code, zip_code):\n",
    "  API_KEY = \"API_KEY\"\n",
    "  URL = f\"https://api.openweathermap.org/geo/1.0/zip?zip={zip_code},{country_code}&appid={API_KEY}\"\n",
    "  response =  requests.get(URL)\n",
    "  json = response.json()\n",
    "  if \"lat\" in json and \"lon\" in json:\n",
    "    return json[\"lat\"], json[\"lon\"]\n",
    "  else:\n",
    "    return None, None"
   ]
  },
  {
   "cell_type": "code",
   "execution_count": 10,
   "metadata": {},
   "outputs": [],
   "source": [
    "# Import Meteostat library and dependencies\n",
    "from datetime import datetime\n",
    "import plotly.express as px\n",
    "from meteostat import Point, Hourly"
   ]
  },
  {
   "cell_type": "code",
   "execution_count": 11,
   "metadata": {},
   "outputs": [
    {
     "name": "stderr",
     "output_type": "stream",
     "text": [
      "ParserWarning: Falling back to the 'python' engine because the 'c' engine does not support regex separators (separators > 1 char and different from '\\s+' are interpreted as regex); you can avoid this warning by specifying engine='python'.\n"
     ]
    }
   ],
   "source": [
    "ccodes = pd.read_csv(\"countries.csv\", sep=\" \\t\")"
   ]
  },
  {
   "cell_type": "code",
   "execution_count": 12,
   "metadata": {},
   "outputs": [],
   "source": [
    "from dash import Dash, dcc, html, Input, Output\n",
    "import plotly.express as px\n",
    "\n",
    "app = Dash(__name__)\n",
    "\n",
    "app.layout = html.Div([\n",
    "  html.Label(\"Country Code\"),\n",
    "  dcc.Dropdown(id=\"country-dropdown\", \n",
    "               options=ccodes[\"A2\"]\n",
    "               #options=[{\"label\": row[\"Country\"], \"value\": row[\"A2\"]} for _, row in ccodes.iterrows()]\n",
    "               ),\n",
    "  html.Label(\"Zip Code\"),\n",
    "  dcc.Input(id=\"zip-input\", type=\"number\", placeholder=\"Enter a Zip Code\", debounce=0.5),\n",
    "\n",
    "  dcc.Graph(id=\"weather-graph\")\n",
    "])\n",
    "\n",
    "@memory.cache\n",
    "def fetch_temperatures(country_code, zip_code, start, end):\n",
    "  lat, lon = geopos_from_zipcode(country_code, zip_code)\n",
    "  if lat is None or lon is None:\n",
    "    return pd.DataFrame(columns=[\"temp\"])\n",
    "  \n",
    "  location = Point(lat, lon, 500)\n",
    "  data = Hourly(location, start, end)\n",
    "  data = data.fetch()\n",
    "  return data\n",
    "\n",
    "@app.callback(\n",
    "  Output(\"weather-graph\", \"figure\"),\n",
    "  Input(\"country-dropdown\", \"value\"),\n",
    "  Input(\"zip-input\", \"value\")\n",
    ")\n",
    "def update_graph(country_code, zip_code):\n",
    "  if country_code is None or zip_code is None:\n",
    "    return {}\n",
    "  \n",
    "  # Set time period\n",
    "  start = datetime(2021, 1, 1)\n",
    "  end = datetime(2022, 12, 31)\n",
    "  \n",
    "  data = fetch_temperatures(country_code, zip_code, start, end)\n",
    "  return px.line(data, y='temp')\n"
   ]
  },
  {
   "cell_type": "code",
   "execution_count": 13,
   "metadata": {},
   "outputs": [
    {
     "data": {
      "text/html": [
       "\n",
       "        <iframe\n",
       "            width=\"100%\"\n",
       "            height=\"650\"\n",
       "            src=\"http://127.0.0.1:8050/\"\n",
       "            frameborder=\"0\"\n",
       "            allowfullscreen\n",
       "            \n",
       "        ></iframe>\n",
       "        "
      ],
      "text/plain": [
       "<IPython.lib.display.IFrame at 0x7fc093023710>"
      ]
     },
     "metadata": {},
     "output_type": "display_data"
    },
    {
     "name": "stderr",
     "output_type": "stream",
     "text": [
      "/home/missinguser/CSE/fa2023/venv/lib/python3.11/site-packages/_plotly_utils/basevalidators.py:105: FutureWarning:\n",
      "\n",
      "The behavior of DatetimeProperties.to_pydatetime is deprecated, in a future version this will return a Series containing python datetime objects instead of an ndarray. To retain the old behavior, call `np.array` on the result\n",
      "\n"
     ]
    }
   ],
   "source": [
    "app.run_server()"
   ]
  }
 ],
 "metadata": {
  "kernelspec": {
   "display_name": "venv",
   "language": "python",
   "name": "python3"
  },
  "language_info": {
   "codemirror_mode": {
    "name": "ipython",
    "version": 3
   },
   "file_extension": ".py",
   "mimetype": "text/x-python",
   "name": "python",
   "nbconvert_exporter": "python",
   "pygments_lexer": "ipython3",
   "version": "3.11.4"
  },
  "orig_nbformat": 4
 },
 "nbformat": 4,
 "nbformat_minor": 2
}
